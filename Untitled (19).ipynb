{
 "cells": [
  {
   "cell_type": "code",
   "execution_count": 1,
   "id": "1a3730f4",
   "metadata": {},
   "outputs": [
    {
     "name": "stdout",
     "output_type": "stream",
     "text": [
      "Requirement already satisfied: mysql-connector-python in c:\\users\\dell\\anaconda3\\lib\\site-packages (8.0.32)\n",
      "Requirement already satisfied: protobuf<=3.20.3,>=3.11.0 in c:\\users\\dell\\anaconda3\\lib\\site-packages (from mysql-connector-python) (3.19.1)\n",
      "Note: you may need to restart the kernel to use updated packages.\n"
     ]
    }
   ],
   "source": [
    "pip install mysql-connector-python"
   ]
  },
  {
   "cell_type": "code",
   "execution_count": null,
   "id": "51afb9f9",
   "metadata": {},
   "outputs": [],
   "source": [
    "from sklearn.preprocessing import OneHotEncoder, StandardScaler\n",
    "import pandas as pd\n",
    "import mysql.connector\n",
    "from sklearn.model_selection import train_test_split\n",
    "from sklearn.linear_model import LogisticRegression\n",
    "from sklearn.metrics import classification_report"
   ]
  },
  {
   "cell_type": "code",
   "execution_count": null,
   "id": "069644ba",
   "metadata": {},
   "outputs": [],
   "source": [
    "\n",
    "cnx = mysql.connector.connect(user='username', password='Y1012Jqkhkp',\n",
    "                              host='localhost', database='sakila')\n",
    "\n",
    "query = '''\n",
    "SELECT \n",
    "    film.film_id, \n",
    "    film.title, \n",
    "    IFNULL(MAX(CASE WHEN MONTH(rental.rental_date) = 5 AND YEAR(rental.rental_date) = 2005 THEN 1 ELSE 0 END), 0) AS rented_last_month\n",
    "FROM \n",
    "    film\n",
    "LEFT JOIN \n",
    "    inventory ON film.film_id = inventory.film_id\n",
    "LEFT JOIN \n",
    "    rental ON inventory.inventory_id = rental.inventory_id\n",
    "GROUP BY \n",
    "    film.film_id, \n",
    "    film.title;\n",
    "'''\n",
    "\n",
    "df = pd.read_sql(query, cnx)\n",
    "\n",
    "cnx.close()"
   ]
  },
  {
   "cell_type": "code",
   "execution_count": null,
   "id": "57719e67",
   "metadata": {},
   "outputs": [],
   "source": [
    "ohe = OneHotEncoder()\n",
    "ohe.fit(df[['rating', 'category']])\n",
    "encoded = ohe.transform(df[['rating', 'category']]).toarray()\n",
    "df_encoded = pd.concat([df, pd.DataFrame(encoded)], axis=1).drop(['rating', 'category'], axis=1)\n"
   ]
  },
  {
   "cell_type": "code",
   "execution_count": null,
   "id": "c1d75073",
   "metadata": {},
   "outputs": [],
   "source": [
    "#Then scale the 'length' column\n",
    "scaler = StandardScaler()\n",
    "df_encoded['length_scaled'] = scaler.fit_transform(df_encoded[['length']])\n",
    "df_encoded.drop('length', axis=1, inplace=True)"
   ]
  },
  {
   "cell_type": "code",
   "execution_count": null,
   "id": "c9ae7aa4",
   "metadata": {},
   "outputs": [],
   "source": [
    "X_train, X_test, y_train, y_test = train_test_split(df_encoded.drop('rented_last_month', axis=1), df_encoded['rented_last_month'], test_size=0.2, random_state=42)\n",
    "\n",
    "lr = LogisticRegression()\n",
    "lr.fit(X_train, y_train)\n",
    "\n",
    "y_pred = lr.predict(X_test)\n",
    "print(classification_report(y_test, y_pred))"
   ]
  }
 ],
 "metadata": {
  "kernelspec": {
   "display_name": "Python 3 (ipykernel)",
   "language": "python",
   "name": "python3"
  },
  "language_info": {
   "codemirror_mode": {
    "name": "ipython",
    "version": 3
   },
   "file_extension": ".py",
   "mimetype": "text/x-python",
   "name": "python",
   "nbconvert_exporter": "python",
   "pygments_lexer": "ipython3",
   "version": "3.9.12"
  }
 },
 "nbformat": 4,
 "nbformat_minor": 5
}
